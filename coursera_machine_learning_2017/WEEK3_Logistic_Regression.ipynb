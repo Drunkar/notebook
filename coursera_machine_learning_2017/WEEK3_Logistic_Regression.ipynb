{
 "cells": [
  {
   "cell_type": "markdown",
   "metadata": {},
   "source": [
    "# WEEK3 Logistic Regression\n",
    "---"
   ]
  },
  {
   "cell_type": "markdown",
   "metadata": {},
   "source": [
    "### Problems in regression\n",
    "\n",
    "- 明らかに正解な学習データを与えられたときでも決定境界大きく移動することがあるため、classification problemでは普通のregressionは使わないほうが良い結果が得られやすい。\n",
    "- だからlogistic regressionを使おう\n",
    "\n",
    "### Hypothesis\n",
    "\n",
    "$ h(x) = g(\\theta^\\mathrm{T} x)$\n",
    "\n",
    "$ g(z) = \\frac{1}{1+e^{-z}}$: sigmoid function, logistic function (synonyms). $ 0 \\le g(z) \\le 1$\n",
    "\n",
    "> Reference: in regression,\n",
    "> \n",
    "> $ h(x) = \\theta^\\mathrm{T} x$\n",
    "\n",
    "- Interpretation of hypothesis output:\n",
    "\n",
    "  $ h_\\theta(x) = p(y=1|x, \\theta)$: probability that $ y=1$, given $ x$, parameterized by $ \\theta$\n",
    "\n",
    "\n",
    "### Cost function\n",
    "\n",
    "- logstic regressionでregressionと同じようにsquared errorをcost functionとした場合、$ h_\\theta(x)$ がsigmoid関数の影響でぐにゃぐにゃした形になってしまう。つまりCost functionがnon-convexになってしまうのでgradient descentではlocal minimumに収束してしまう可能性がある。\n",
    "- そのため、通常のregressionとは違う、convexになるcost functionを採用する必要がある:\n",
    "\n",
    "  $\n",
    "Cost(h_\\theta(x), y) = \n",
    "  \\begin{cases}\n",
    "    -log(h_\\theta(x)),\\ if\\ y = 1 \\\\\n",
    "    -log(1-h_\\theta(x)),\\ if\\ y = 0\n",
    "  \\end{cases}\n",
    "$\n",
    "\n",
    "- Simplified version:\n",
    "\n",
    "  $ Cost(h_\\theta(x), y) = -ylog(h_\\theta(x)) - (1-y)log(1-h_\\theta(x))$\n",
    "  \n",
    "\n",
    "### Learning by gradient descent\n",
    "\n",
    "Repeat {\n",
    "\n",
    "$ \\theta_j := \\theta_j - \\alpha\\frac{\\delta}{\\delta\\theta}J(\\theta) $\n",
    "\n",
    "}\n",
    "\n",
    "That is,\n",
    "\n",
    "Repeat {\n",
    "\n",
    "$\\theta_j := \\theta_j - \\alpha\\sum_{i=1}^m(h_\\theta(x^{(i)} - y^{(i)})x_j^{(i)}$\n",
    "\n",
    "}\n",
    "\n",
    "\n",
    "- Vectorized version:\n",
    "  \n",
    "  Repeat {\n",
    "\n",
    "  $\\theta := \\theta - \\frac{\\alpha}{m} X^\\mathrm{T}\\left(g(X\\theta) - \\vec{y} \\right)$\n",
    "\n",
    "  }"
   ]
  },
  {
   "cell_type": "markdown",
   "metadata": {
    "collapsed": true
   },
   "source": [
    "## Advanced optimization\n",
    "\n",
    "- Conjugate gradient\n",
    "- BFGS\n",
    "- L-BFGS\n",
    "\n",
    "Advantages of these learning algorithms:\n",
    "\n",
    "- No need to manually pick $ \\alpha$\n",
    "- Often faster than gradient descent\n",
    "- But more complicated."
   ]
  },
  {
   "cell_type": "markdown",
   "metadata": {},
   "source": [
    "## Multi-class  Classification\n",
    "- use one-vs-all"
   ]
  },
  {
   "cell_type": "code",
   "execution_count": null,
   "metadata": {
    "collapsed": true
   },
   "outputs": [],
   "source": []
  }
 ],
 "metadata": {
  "kernelspec": {
   "display_name": "Python 3",
   "language": "python",
   "name": "python3"
  },
  "language_info": {
   "codemirror_mode": {
    "name": "ipython",
    "version": 3
   },
   "file_extension": ".py",
   "mimetype": "text/x-python",
   "name": "python",
   "nbconvert_exporter": "python",
   "pygments_lexer": "ipython3",
   "version": "3.6.1"
  }
 },
 "nbformat": 4,
 "nbformat_minor": 2
}
